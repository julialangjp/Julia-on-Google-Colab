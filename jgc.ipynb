{
   "nbformat": 4,
   "nbformat_minor": 0,
   "metadata": {
     "colab": {
       "name": "Julia on Google Colab.ipynb",
       "provenance": [],
       "collapsed_sections": []
     },
     "kernelspec": {
       "name": "julia-1.7",
       "display_name": "julia-1.7"
     },
     "accelerator": "GPU"
   },
   "cells": [
     {
       "cell_type": "markdown",
       "metadata": {
         "colab_type": "text"
       },
       "source": [
         "次のセルを実行します。（実行ボタンクリックか、次のセルにカーソルを置いてキーボードからShift＋Enterを押下します。）\n\n",
         "『ランタイム 「julia-1.7」は認識されていません』のようなメッセージが出るかもしれませんが、無視してもらって問題ありません。"
       ]
     },
     {
       "cell_type": "code",
       "metadata": {
         "colab_type": "code",
         "colab": {}
       },
       "source": [
         "!curl -sSL \"https://julialang-s3.julialang.org/bin/linux/x64/1.7/julia-1.7.2-linux-x86_64.tar.gz\" -o julia.tar.gz\n",
         "!tar -xzf julia.tar.gz -C /usr --strip-components 1\n",
         "!rm -rf julia.tar.gz*\n",
         "!julia -e 'using Pkg; Pkg.add(\"IJulia\")'"
       ],
       "execution_count": 0,
       "outputs": []
     },
     {
       "cell_type": "markdown",
       "metadata": {
         "colab_type": "text"
       },
       "source": [
         "上記の実行成功で、Juliaの実行環境はインストールできました。\n\n",
         "しかし、GoogleColabはPythonを使用する設定のままなので、次の手順でJuliaを使用する設定に変更します。\n\n",
         "・メニューから「ランタイム」->「ランタイムのタイプを変更」をクリックします。\n\n",
         "・「ノートブックの設定」ダイアログが開くので「ランタイムのタイプ」が「julia-1.7」であることを確認して「保存」を押してください。\n\n",
         "・その後、次のセルを実行して情報が正しく表示されることを確認しましょう。（Pythonだとエラーになります。）"
       ]
     },
     {
       "cell_type": "code",
       "metadata": {
         "colab_type": "code",
         "colab": {}
       },
       "source": [
         "versioninfo()"
       ],
       "execution_count": 0,
       "outputs": []
     }
   ]
 }
